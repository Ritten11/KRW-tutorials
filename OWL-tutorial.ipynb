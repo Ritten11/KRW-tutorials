{
 "cells": [
  {
   "cell_type": "markdown",
   "metadata": {},
   "source": [
    "# OWL tutorial"
   ]
  },
  {
   "cell_type": "markdown",
   "metadata": {},
   "source": [
    "First install owlready2 if you don't already have it, and have a quick look at the [documentation](https://owlready2.readthedocs.io/en/v0.36/onto.html#)."
   ]
  },
  {
   "cell_type": "code",
   "execution_count": 1,
   "metadata": {},
   "outputs": [
    {
     "name": "stderr",
     "output_type": "stream",
     "text": [
      "* Owlready2 * Warning: optimized Cython parser module 'owlready2_optimized' is not available, defaulting to slower Python implementation\n"
     ]
    }
   ],
   "source": [
    "## Uncomment if you do not have owlrl installed (you should have it installed from the RDFS tutorial)\n",
    "#import sys\n",
    "#!{sys.executable} -m pip install rdflib  owlready2 pandas\n",
    "\n",
    "import pandas as pd\n",
    "from rdflib import Graph, Literal, Namespace, RDF, URIRef, OWL\n",
    "from rdflib.namespace import DC, FOAF\n",
    "\n",
    "from owlready2 import *"
   ]
  },
  {
   "cell_type": "markdown",
   "metadata": {},
   "source": [
    "Let's start loading some data from a .CSV file. We are going to create an ontology that describes the data inside.\n",
    "We already did part of this using the semantics of RDF(S), now we'll use the semantics of [OWL](https://www.w3.org/TR/2012/REC-owl2-primer-20121211/) through owlready2. \n",
    "\n",
    "Remember that an ontology is often an application ontology, meaning that it is built with a specific task in mind. \n",
    "We could model _everything_ within a certain domain in the most ontologically correct way possible, _or_ **we could model the domain in accordance with the application's task.** \n",
    "\n",
    "\n",
    "**Your task and domain:** You are a broadcaster that has just digitised its radio archives into a digital music archive (DMA), and aims to play more interesting tracks by discovering their 'hidden treasures', by making unexpected and potentially interesting relations between tracks visible to the users (which are journalists and program makers).\n",
    "\n",
    "\n",
    "**Exercise 1** \n",
    "\n",
    "1. look at the .csv files in the folder /data/musicoset_metadata/ and load them into pandas dataframes (use display.max_columns to show all columns). \n",
    "2. initialise an empty ontology using owlready2\n",
    "3. using owlready2, create a hierarchy of classes and subclasses that describe the entities in your dataframes\n",
    "4. using owrleady2, create properties and subproperties their properties, and how the classes relate to one another (using domain and range). If it helps: draw out your ontology in https://app.diagrams.net/\n",
    "    - create: object properties, data properties, functional properties\n",
    "5. using owlready2, add class restrictions\n",
    "6. create invididuals of your classes, and provide them with attributes using your properties! \n",
    "7. write simple queries to retrieve your individuals following: https://owlready2.readthedocs.io/en/v0.36/onto.html#simple-queries. What kind of things would journalists and program makers like to retrieve? \n",
    "6. save your asserted owl file"
   ]
  },
  {
   "cell_type": "code",
   "execution_count": 2,
   "metadata": {},
   "outputs": [
    {
     "data": {
      "text/html": [
       "<div>\n",
       "<style scoped>\n",
       "    .dataframe tbody tr th:only-of-type {\n",
       "        vertical-align: middle;\n",
       "    }\n",
       "\n",
       "    .dataframe tbody tr th {\n",
       "        vertical-align: top;\n",
       "    }\n",
       "\n",
       "    .dataframe thead th {\n",
       "        text-align: right;\n",
       "    }\n",
       "</style>\n",
       "<table border=\"1\" class=\"dataframe\">\n",
       "  <thead>\n",
       "    <tr style=\"text-align: right;\">\n",
       "      <th></th>\n",
       "      <th>album_id</th>\n",
       "      <th>name</th>\n",
       "      <th>billboard</th>\n",
       "      <th>artists</th>\n",
       "      <th>popularity</th>\n",
       "      <th>total_tracks</th>\n",
       "      <th>album_type</th>\n",
       "      <th>image_url</th>\n",
       "    </tr>\n",
       "  </thead>\n",
       "  <tbody>\n",
       "    <tr>\n",
       "      <th>0</th>\n",
       "      <td>5n1GSzC1Reao29ScnpLYqp</td>\n",
       "      <td>Dying To Live</td>\n",
       "      <td>Dying To Live</td>\n",
       "      <td>{'46SHBwWsqBkxI7EeeBEQG7': 'Kodak Black'}</td>\n",
       "      <td>83</td>\n",
       "      <td>16</td>\n",
       "      <td>album</td>\n",
       "      <td>https://i.scdn.co/image/db2133234d458f432ca207...</td>\n",
       "    </tr>\n",
       "    <tr>\n",
       "      <th>1</th>\n",
       "      <td>6UYZEYjpN1DYRW0kqFy9ZE</td>\n",
       "      <td>Championships</td>\n",
       "      <td>Championships</td>\n",
       "      <td>{'20sxb77xiYeusSH8cVdatc': 'Meek Mill'}</td>\n",
       "      <td>85</td>\n",
       "      <td>19</td>\n",
       "      <td>album</td>\n",
       "      <td>https://i.scdn.co/image/77eb7c17cafe5503c58661...</td>\n",
       "    </tr>\n",
       "    <tr>\n",
       "      <th>2</th>\n",
       "      <td>7uVimUILdzSZG4KKKWToq0</td>\n",
       "      <td>Christmas (Deluxe Special Edition)</td>\n",
       "      <td>Christmas</td>\n",
       "      <td>{'1GxkXlMwML1oSg5eLPiAz3': 'Michael Bublé'}</td>\n",
       "      <td>60</td>\n",
       "      <td>20</td>\n",
       "      <td>album</td>\n",
       "      <td>https://i.scdn.co/image/2d6ee8d4fb5a45abf35cd3...</td>\n",
       "    </tr>\n",
       "    <tr>\n",
       "      <th>3</th>\n",
       "      <td>35s58BRTGAEWztPo9WqCIs</td>\n",
       "      <td>Spider-Man: Into the Spider-Verse (Soundtrack ...</td>\n",
       "      <td>Spider-Man: Into The Spider-Verse</td>\n",
       "      <td>{'0LyfQWJT6nXafLPZqxe9Of': 'Various Artists'}</td>\n",
       "      <td>92</td>\n",
       "      <td>13</td>\n",
       "      <td>compilation</td>\n",
       "      <td>https://i.scdn.co/image/3aa37254a41cf96e815725...</td>\n",
       "    </tr>\n",
       "    <tr>\n",
       "      <th>4</th>\n",
       "      <td>41GuZcammIkupMPKH2OJ6I</td>\n",
       "      <td>ASTROWORLD</td>\n",
       "      <td>ASTROWORLD</td>\n",
       "      <td>{'0Y5tJX1MQlPlqiwlOH1tJY': 'Travis Scott'}</td>\n",
       "      <td>91</td>\n",
       "      <td>17</td>\n",
       "      <td>album</td>\n",
       "      <td>https://i.scdn.co/image/cdca7dc20c778ada42fb18...</td>\n",
       "    </tr>\n",
       "  </tbody>\n",
       "</table>\n",
       "</div>"
      ],
      "text/plain": [
       "                 album_id                                               name  \\\n",
       "0  5n1GSzC1Reao29ScnpLYqp                                      Dying To Live   \n",
       "1  6UYZEYjpN1DYRW0kqFy9ZE                                      Championships   \n",
       "2  7uVimUILdzSZG4KKKWToq0                 Christmas (Deluxe Special Edition)   \n",
       "3  35s58BRTGAEWztPo9WqCIs  Spider-Man: Into the Spider-Verse (Soundtrack ...   \n",
       "4  41GuZcammIkupMPKH2OJ6I                                         ASTROWORLD   \n",
       "\n",
       "                           billboard  \\\n",
       "0                      Dying To Live   \n",
       "1                      Championships   \n",
       "2                          Christmas   \n",
       "3  Spider-Man: Into The Spider-Verse   \n",
       "4                         ASTROWORLD   \n",
       "\n",
       "                                         artists  popularity  total_tracks  \\\n",
       "0      {'46SHBwWsqBkxI7EeeBEQG7': 'Kodak Black'}          83            16   \n",
       "1        {'20sxb77xiYeusSH8cVdatc': 'Meek Mill'}          85            19   \n",
       "2    {'1GxkXlMwML1oSg5eLPiAz3': 'Michael Bublé'}          60            20   \n",
       "3  {'0LyfQWJT6nXafLPZqxe9Of': 'Various Artists'}          92            13   \n",
       "4     {'0Y5tJX1MQlPlqiwlOH1tJY': 'Travis Scott'}          91            17   \n",
       "\n",
       "    album_type                                          image_url  \n",
       "0        album  https://i.scdn.co/image/db2133234d458f432ca207...  \n",
       "1        album  https://i.scdn.co/image/77eb7c17cafe5503c58661...  \n",
       "2        album  https://i.scdn.co/image/2d6ee8d4fb5a45abf35cd3...  \n",
       "3  compilation  https://i.scdn.co/image/3aa37254a41cf96e815725...  \n",
       "4        album  https://i.scdn.co/image/cdca7dc20c778ada42fb18...  "
      ]
     },
     "execution_count": 2,
     "metadata": {},
     "output_type": "execute_result"
    }
   ],
   "source": [
    "#load each csv in a different df\n",
    "df_albums = pd.read_csv('./data/musicoset_metadata/albums.csv', sep='\\t')\n",
    "df_artists = pd.read_csv('./data/musicoset_metadata/artists.csv',sep='\\t')\n",
    "df_releases = pd.read_csv('./data/musicoset_metadata/releases.csv',sep='\\t')\n",
    "df_songs = pd.read_csv('./data/musicoset_metadata/songs.csv',sep='\\t')\n",
    "df_tracks = pd.read_csv('./data/musicoset_metadata/tracks.csv',sep='\\t')\n",
    "\n",
    "\n",
    "df_albums.head()\n"
   ]
  },
  {
   "cell_type": "code",
   "execution_count": 3,
   "metadata": {},
   "outputs": [],
   "source": [
    "\n",
    "#initialize empty ontology\n",
    "\n",
    "onto = get_ontology(\"http://test.org/music.owl\") "
   ]
  },
  {
   "cell_type": "code",
   "execution_count": 4,
   "metadata": {},
   "outputs": [],
   "source": [
    "with onto:\n",
    "    class Person(Thing):\n",
    "        pass\n",
    "    \n",
    "    class Song(Thing):\n",
    "        pass\n",
    "    \n",
    "    class releasDate(DataProperty, FunctionalProperty):\n",
    "        domain    = [Song]\n",
    "        range     = [str]\n",
    "        pass\n",
    "    \n",
    "    class Album(Thing):\n",
    "        pass\n",
    "    \n",
    "    class Artist(Thing):\n",
    "        pass\n",
    "    \n",
    "    class hasSong(ObjectProperty):\n",
    "        domain    = [Album]\n",
    "        range     = [Song]\n",
    "        pass\n",
    "    \n",
    "    class writtenBy(ObjectProperty):\n",
    "        domain    = [Song]\n",
    "        range     = [Artist]\n",
    "        pass\n",
    "    \n",
    "    class performedBy(Song >> Artist):\n",
    "        pass\n",
    "        \n",
    "    class bandMember(Artist >> Artist):\n",
    "        pass\n",
    "    \n",
    "    class name(DataProperty, FunctionalProperty):\n",
    "        range     = [str]\n",
    "        pass\n",
    "    \n",
    "#     class hasName(ObjectProperty):\n",
    "#         domain    = [Thing]\n",
    "#         range     = [Name]\n",
    "\n",
    "    class Billboard(Thing):\n",
    "        pass\n",
    "    \n",
    "    class Popularity(DataProperty, FunctionalProperty):\n",
    "        range    = [int]\n",
    "        pass\n",
    "    \n",
    "    class ImageUrl(Thing):\n",
    "        pass\n",
    "    \n",
    "    class Genre(Thing):\n",
    "        pass\n",
    "    \n",
    "    class SubGenre(Genre):\n",
    "        pass\n",
    "    \n",
    "    class hasSubGenre(Genre >> SubGenre):\n",
    "        pass\n",
    "    \n",
    "    class hasGenre(ObjectProperty):\n",
    "        domain   = [Song]\n",
    "        range    = [Genre]\n",
    "        pass\n",
    "    \n",
    "    class ArtistType(Thing):\n",
    "        pass\n",
    "        \n",
    "    class hasType(Artist >> ArtistType):\n",
    "        pass\n",
    "    \n",
    "    \n",
    "    \n",
    "#Create classes - each class is subclass of thing"
   ]
  },
  {
   "cell_type": "code",
   "execution_count": 5,
   "metadata": {},
   "outputs": [
    {
     "data": {
      "text/plain": [
       "[music.Person,\n",
       " music.Song,\n",
       " music.Album,\n",
       " music.Artist,\n",
       " music.Billboard,\n",
       " music.ImageUrl,\n",
       " music.Genre,\n",
       " music.SubGenre,\n",
       " music.ArtistType]"
      ]
     },
     "execution_count": 5,
     "metadata": {},
     "output_type": "execute_result"
    }
   ],
   "source": [
    "#Create properties and subproperties\n",
    "list(onto.classes())"
   ]
  },
  {
   "cell_type": "code",
   "execution_count": 6,
   "metadata": {},
   "outputs": [
    {
     "data": {
      "text/plain": [
       "[music.releasDate,\n",
       " music.name,\n",
       " music.Popularity,\n",
       " music.hasSong,\n",
       " music.writtenBy,\n",
       " music.performedBy,\n",
       " music.bandMember,\n",
       " music.hasSubGenre,\n",
       " music.hasGenre,\n",
       " music.hasType]"
      ]
     },
     "execution_count": 6,
     "metadata": {},
     "output_type": "execute_result"
    }
   ],
   "source": [
    "#add class restrictions\n",
    "Song.is_a.append(writtenBy.min(1))\n",
    "Song.is_a.append(performedBy.min(1))\n",
    "Song.is_a.append(releasDate.max(1))\n",
    "Song.is_a.append(hasGenre.min(1))\n",
    "\n",
    "Person.is_a.append(name.exactly(1))\n",
    "Album.is_a.append(name.exactly(1))\n",
    "Song.is_a.append(name.exactly(1))\n",
    "\n",
    "Artist.is_a.append(hasType.min(1))\n",
    "Album.is_a.append(hasSong.min(1))\n",
    "\n",
    "class SoloArtist(Artist):\n",
    "    equivalent_to = [Artist & bandMember.max(1)]\n",
    "    namespace=onto\n",
    "    pass\n",
    "\n",
    "class Band(Artist):\n",
    "    equivalent_to = [Artist & bandMember.min(2)]\n",
    "    namespace=onto\n",
    "    pass\n",
    "\n",
    "list(onto.properties())"
   ]
  },
  {
   "cell_type": "code",
   "execution_count": 7,
   "metadata": {},
   "outputs": [
    {
     "data": {
      "text/plain": [
       "AllDisjoint([music.pop, music.rock, music.triphop, music.latin])"
      ]
     },
     "execution_count": 7,
     "metadata": {},
     "output_type": "execute_result"
    }
   ],
   "source": [
    "#create instances of the classes\n",
    "alice = Person(name='Alice')\n",
    "alice.is_a.append(Artist)\n",
    "bob = Person(name='Bob')\n",
    "bob.is_a.append(Artist)\n",
    "chris = Person(name='Chris')\n",
    "chris.is_a.append(Artist)\n",
    "\n",
    "banger_boys = Artist(bandMember=[alice, bob, chris], name='Banger Boys')\n",
    "\n",
    "heart = Song(writtenBy=[bob], performedBy=[banger_boys], releaseDate='2-0-2020', name='My heart goes BOOM')\n",
    "\n",
    "head = Song(writtenBy=[alice], performedBy=[banger_boys], releaseDate='2-1-2021', name='My head goes WHOAHH')\n",
    "\n",
    "feet = Song(writtenBy=[chris], performedBy=[banger_boys], releaseDate='2-2-2022', name='My feet go WILD')\n",
    "\n",
    "bootleg_billionaire = Album(hasSong=[heart, head, feet], name='Bootleg Billionaire')\n",
    "\n",
    "pop     = Genre('pop')\n",
    "rock    = Genre('rock')\n",
    "triphop = Genre('triphop')\n",
    "experimentalRock = SubGenre('experimentalRock')\n",
    "latin   = Genre('latin')\n",
    "salsa   = SubGenre('salsa')\n",
    "reggeaton = SubGenre('reggeaton')\n",
    "\n",
    "latin.hasSubGenre = [salsa, reggeaton]\n",
    "rock.hasSubGenre = [experimentalRock]\n",
    "\n",
    "heart.hasGenre = [triphop]\n",
    "head.hasGenre = [experimentalRock]\n",
    "feet.hasGenre = [reggeaton, experimentalRock]\n",
    "\n",
    "AllDifferent([pop, rock, triphop, latin])"
   ]
  },
  {
   "cell_type": "code",
   "execution_count": 8,
   "metadata": {},
   "outputs": [
    {
     "data": {
      "text/plain": [
       "[music.My heart goes BOOM, music.My head goes WHOAHH, music.My feet go WILD]"
      ]
     },
     "execution_count": 8,
     "metadata": {},
     "output_type": "execute_result"
    }
   ],
   "source": [
    "#write simple queries HINT (onto.search, ..)\n",
    "onto.search(writtenBy='*')"
   ]
  },
  {
   "cell_type": "code",
   "execution_count": 9,
   "metadata": {},
   "outputs": [],
   "source": [
    "#save\n",
    "onto.save(file = \"./data/musicOnto.owl\", format = \"rdfxml\")\n"
   ]
  },
  {
   "cell_type": "markdown",
   "metadata": {},
   "source": [
    "## OWL reasoning \n",
    "\n",
    "Let's look at how reasoning works.\n",
    "\n",
    "Owlready automatically gets the results of the reasoning from HermiT (a type of reasoner) and reclassifies Individuals and Classes. \n",
    "\n",
    "**Exercise 2**\n",
    "1. think about which things are inferred from your OWL semantics. Query/look at your graph: do you see what you expected?\n",
    "2. looking at the following tutorial [owlready2-reasoning](https://owlready2.readthedocs.io/en/latest/reasoning.html), which things have not yet been inferred? Run the owlready2 reasoner to:\n",
    "    - infer these new triples\n",
    "    - check your ontology and statements (individuals + attributes) for consistency\n",
    "3. save your asserted + inferred triples to a new file "
   ]
  },
  {
   "cell_type": "code",
   "execution_count": 10,
   "metadata": {},
   "outputs": [
    {
     "name": "stdout",
     "output_type": "stream",
     "text": [
      "Persons:\n",
      "music.Alice\n",
      "music.Bob\n",
      "music.Chris\n",
      "\n",
      "Artists:\n",
      "music.Alice\n",
      "music.Bob\n",
      "music.Chris\n",
      "music.Banger Boys\n",
      "\n",
      "Genre:\n",
      "music.pop\n",
      "music.rock\n",
      "music.triphop\n",
      "music.latin\n",
      "music.experimentalRock\n",
      "music.salsa\n",
      "music.reggeaton\n"
     ]
    }
   ],
   "source": [
    "\n",
    "print(\"Persons:\")\n",
    "for p in Person.instances():\n",
    "    print(p)\n",
    "    \n",
    "print('\\nArtists:')\n",
    "for a in Artist.instances():\n",
    "    print(a)\n",
    "\n",
    "    \n",
    "# This is working!\n",
    "print('\\nGenre:')\n",
    "for g in Genre.instances():\n",
    "    print(g)"
   ]
  },
  {
   "cell_type": "code",
   "execution_count": 11,
   "metadata": {},
   "outputs": [
    {
     "name": "stdout",
     "output_type": "stream",
     "text": [
      "Albums:\n",
      "music.Bootleg Billionaire\n",
      "music.triple trillionaires\n"
     ]
    },
    {
     "name": "stderr",
     "output_type": "stream",
     "text": [
      "* Owlready2 * Running HermiT...\n",
      "    java -Xmx2000M -cp /home/user/.pyenv/versions/3.9.2/envs/KRW-3.9.2/lib/python3.9/site-packages/owlready2/hermit:/home/user/.pyenv/versions/3.9.2/envs/KRW-3.9.2/lib/python3.9/site-packages/owlready2/hermit/HermiT.jar org.semanticweb.HermiT.cli.CommandLine -c -O -D -I file:////tmp/tmp3_sgadnq -Y\n"
     ]
    },
    {
     "name": "stdout",
     "output_type": "stream",
     "text": [
      "Checking of inconsitencies\n",
      "Bands:\n",
      "Solo Artists:\n",
      "\n",
      "Here the inferred classes should show up as well:\n",
      "[music.Person, music.Artist]\n",
      "[music.Artist]\n"
     ]
    },
    {
     "name": "stderr",
     "output_type": "stream",
     "text": [
      "* Owlready2 * HermiT took 0.3146069049835205 seconds\n",
      "* Owlready * (NB: only changes on entities loaded in Python are shown, other changes are done but not listed)\n"
     ]
    }
   ],
   "source": [
    "new_project = Album(name='triple trillionaires')\n",
    "print(\"Albums:\")\n",
    "for a in Album.instances():\n",
    "    print(a)\n",
    "    \n",
    "\n",
    "with onto:\n",
    "    sync_reasoner(infer_property_values = True)\n",
    "\n",
    "# This is not!!!!!    \n",
    "print('Checking of inconsitencies')\n",
    "\n",
    "list(onto.inconsistent_classes()) # should show the inconsistancy of 'music.triple trillionaires' not having any songs\n",
    "\n",
    "print('Bands:')\n",
    "for b in Band.instances(): # It should be inferred that 'music.banger boys' is a 'music.Band'\n",
    "    print(b)\n",
    "\n",
    "print('Solo Artists:') # It should be inferred that 'music.alice', 'music.bob', and 'music.chris' are all solo artists\n",
    "for s in SoloArtist.instances():\n",
    "    print(s)\n",
    "\n",
    "print('\\nHere the inferred classes should show up as well:') # basically different ways to check the same things mentioned above\n",
    "print(onto.get_parents_of(bob))\n",
    "print(banger_boys.is_a)"
   ]
  },
  {
   "cell_type": "markdown",
   "metadata": {},
   "source": [
    "#### Querying inferred triples\n",
    "\n",
    "**Exercise 3**\n",
    "Query your inferred triples: \n",
    "\n",
    "- *.get_parents_of(entity)* accepts any entity (Class, property or individual), and returns the superclasses (for a class), the superproperties (for a property), or the classes (for an individual). \n",
    "\n",
    "- *.get_instances_of(Class)* returns the individuals that are asserted as belonging to the given Class in the ontology. (NB for obtaining all instances, independently of the ontology they are asserted in, use Class.instances()).\n",
    "\n",
    "- *.get_children_of(entity)* returns the subclasses (or subproperties) that are asserted for the given Class or property in the ontology. (NB for obtaining all children, independently of the ontology they are asserted in, use entity.subclasses())."
   ]
  }
 ],
 "metadata": {
  "kernelspec": {
   "display_name": "Python 3 (ipykernel)",
   "language": "python",
   "name": "python3"
  },
  "language_info": {
   "codemirror_mode": {
    "name": "ipython",
    "version": 3
   },
   "file_extension": ".py",
   "mimetype": "text/x-python",
   "name": "python",
   "nbconvert_exporter": "python",
   "pygments_lexer": "ipython3",
   "version": "3.9.2"
  },
  "vscode": {
   "interpreter": {
    "hash": "aee8b7b246df8f9039afb4144a1f6fd8d2ca17a180786b69acc140d282b71a49"
   }
  }
 },
 "nbformat": 4,
 "nbformat_minor": 2
}
